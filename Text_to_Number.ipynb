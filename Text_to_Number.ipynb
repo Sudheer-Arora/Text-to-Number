{
  "nbformat": 4,
  "nbformat_minor": 0,
  "metadata": {
    "colab": {
      "provenance": [],
      "authorship_tag": "ABX9TyPzHFXCQ89f/lJ9saQ9T5X9",
      "include_colab_link": true
    },
    "kernelspec": {
      "name": "python3",
      "display_name": "Python 3"
    },
    "language_info": {
      "name": "python"
    }
  },
  "cells": [
    {
      "cell_type": "markdown",
      "metadata": {
        "id": "view-in-github",
        "colab_type": "text"
      },
      "source": [
        "<a href=\"https://colab.research.google.com/github/Sudheer-Arora/Text-to-Number/blob/main/Text_to_Number.ipynb\" target=\"_parent\"><img src=\"https://colab.research.google.com/assets/colab-badge.svg\" alt=\"Open In Colab\"/></a>"
      ]
    },
    {
      "cell_type": "code",
      "execution_count": 1,
      "metadata": {
        "colab": {
          "base_uri": "https://localhost:8080/"
        },
        "id": "qRgGEprchDcz",
        "outputId": "f7896bc1-4a1c-4545-ace8-587447b88c16"
      },
      "outputs": [
        {
          "output_type": "stream",
          "name": "stdout",
          "text": [
            "Collecting text-to-number\n",
            "  Downloading text_to_number-0.1.2-py3-none-any.whl (4.8 kB)\n",
            "Installing collected packages: text-to-number\n",
            "Successfully installed text-to-number-0.1.2\n"
          ]
        }
      ],
      "source": [
        "!pip install text-to-number"
      ]
    },
    {
      "cell_type": "code",
      "source": [
        "from text_to_number import text_to_number"
      ],
      "metadata": {
        "id": "16VXG4yIhPNL"
      },
      "execution_count": 2,
      "outputs": []
    },
    {
      "cell_type": "code",
      "source": [
        "ans= text_to_number(\"I have two apples and three bananas.\")\n",
        "print(ans)"
      ],
      "metadata": {
        "colab": {
          "base_uri": "https://localhost:8080/"
        },
        "id": "baU8qsTlhQ4s",
        "outputId": "2931f9c1-ef60-4fe5-9c1c-9d3d46e0cd65"
      },
      "execution_count": 3,
      "outputs": [
        {
          "output_type": "stream",
          "name": "stdout",
          "text": [
            "I have 2 apples and 3 bananas.\n"
          ]
        }
      ]
    }
  ]
}